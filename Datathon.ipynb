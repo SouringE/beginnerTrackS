{
 "cells": [
  {
   "cell_type": "code",
   "execution_count": 1,
   "id": "888f9a8d-ccfa-4886-86d3-5993131039be",
   "metadata": {},
   "outputs": [],
   "source": [
    "#separates data into 3 categories: food, supplements, cosmetics\n",
    "\n",
    "import pandas as pd\n",
    "import numpy as np\n",
    "import matplotlib.pyplot as plt"
   ]
  },
  {
   "cell_type": "code",
   "execution_count": 2,
   "id": "77efcf0d-f248-4a61-92a4-564c926f4287",
   "metadata": {},
   "outputs": [
    {
     "name": "stdout",
     "output_type": "stream",
     "text": [
      "(109173, 12)\n"
     ]
    }
   ],
   "source": [
    "df = pd.read_csv(\"CAERS_ProductBased.csv\")\n",
    "df = df.dropna(axis = 1, how = \"all\")\n",
    "df = df[df[\"PRODUCT_TYPE\"] == \"SUSPECT\"]\n",
    "df = df[df[\"PRODUCT\"] != \"EXEMPTION 4\"]\n",
    "print(df.shape)\n",
    "# print(df.iloc[:5, :])"
   ]
  },
  {
   "cell_type": "code",
   "execution_count": 3,
   "id": "c64073db-02dd-44ca-b173-a0b2eca3da5f",
   "metadata": {},
   "outputs": [
    {
     "name": "stdout",
     "output_type": "stream",
     "text": [
      "(31213, 12)\n"
     ]
    }
   ],
   "source": [
    "food_df = df[df[\"PRODUCT_CODE\"] < \"40\"]\n",
    "# print(food_df.iloc[:5, :])\n",
    "print(food_df.shape)"
   ]
  },
  {
   "cell_type": "code",
   "execution_count": 4,
   "id": "ebf7d194-da0e-4710-bf87-f768f5b7c520",
   "metadata": {},
   "outputs": [
    {
     "name": "stdout",
     "output_type": "stream",
     "text": [
      "(54717, 12)\n"
     ]
    }
   ],
   "source": [
    "supp_df = df[df[\"PRODUCT_CODE\"] == \"54\"]\n",
    "# print(supp_df.iloc[:5, :])\n",
    "print(supp_df.shape)"
   ]
  },
  {
   "cell_type": "code",
   "execution_count": 5,
   "id": "c50ba02c-225f-4dc1-9d03-d3dbf49bf7a5",
   "metadata": {},
   "outputs": [
    {
     "name": "stdout",
     "output_type": "stream",
     "text": [
      "(13459, 12)\n"
     ]
    }
   ],
   "source": [
    "cosmetic_df = df[df[\"PRODUCT_CODE\"] == \"53\"]\n",
    "print(cosmetic_df.shape)"
   ]
  },
  {
   "cell_type": "code",
   "execution_count": 6,
   "id": "76084862-99fd-43f6-b06d-b18fa58ccc3e",
   "metadata": {},
   "outputs": [
    {
     "name": "stdout",
     "output_type": "stream",
     "text": [
      "Complaints that lead to death from food: 202\n",
      "Complaints that lead to disability from food: 1390\n",
      "Complaints that lead to hospitalization or ER visit from food: 5227\n",
      "Complaints that lead to other outcomes from supplements: 24720\n"
     ]
    }
   ],
   "source": [
    "death_food = food_df[food_df['CASE_OUTCOME'].str.contains(\"Death\", na= False)]\n",
    "print(\"Complaints that lead to death from food: \" + str(death_food.shape[0]))\n",
    "disability_food = food_df[food_df['CASE_OUTCOME'].str.contains(\"Disability\", na= False)]\n",
    "print(\"Complaints that lead to disability from food: \" + str(disability_food.shape[0]))\n",
    "hosp_food = food_df[food_df['CASE_OUTCOME'].str.contains('Hospit|Emergency', na= False)]\n",
    "print(\"Complaints that lead to hospitalization or ER visit from food: \" + str(hosp_food.shape[0]))\n",
    "other_food = food_df[~food_df['CASE_OUTCOME'].str.contains('Death|Disability|Hospit|Emergency', na= False)]\n",
    "print(\"Complaints that lead to other outcomes from supplements: \" + str(other_food.shape[0]))"
   ]
  },
  {
   "cell_type": "code",
   "execution_count": 7,
   "id": "6bf3000e-f6c3-4769-a803-802c1989c767",
   "metadata": {},
   "outputs": [
    {
     "name": "stdout",
     "output_type": "stream",
     "text": [
      "Complaints that lead to death from supplements: 1186\n",
      "Complaints that lead to disability from supplements: 1879\n",
      "Complaints that lead to hospitalization or ER visit from supplements: 21182\n",
      "Complaints that lead to other outcomes from supplements: 31384\n"
     ]
    }
   ],
   "source": [
    "death_supp = supp_df[supp_df['CASE_OUTCOME'].str.contains(\"Death\", na= False)]\n",
    "print(\"Complaints that lead to death from supplements: \" + str(death_supp.shape[0]))\n",
    "disability_supp = supp_df[supp_df['CASE_OUTCOME'].str.contains(\"Disability\", na= False)]\n",
    "print(\"Complaints that lead to disability from supplements: \" + str(disability_supp.shape[0]))\n",
    "hosp_supp = supp_df[supp_df['CASE_OUTCOME'].str.contains('Hospit|Emergency', na= False)]\n",
    "print(\"Complaints that lead to hospitalization or ER visit from supplements: \" + str(hosp_supp.shape[0]))\n",
    "other_supp = supp_df[~supp_df['CASE_OUTCOME'].str.contains('Death|Disability|Hospit|Emergency', na= False)]\n",
    "print(\"Complaints that lead to other outcomes from supplements: \" + str(other_supp.shape[0]))"
   ]
  },
  {
   "cell_type": "code",
   "execution_count": 8,
   "id": "1c98ced4-9ff6-4cee-b48a-cbe928b0e9fd",
   "metadata": {},
   "outputs": [
    {
     "name": "stdout",
     "output_type": "stream",
     "text": [
      "Complaints that lead to death from cosmetics: 79\n",
      "Complaints that lead to disability from cosmetics: 478\n",
      "Complaints that lead to hospitalization or ER visit from cosmetics: 976\n",
      "Complaints that lead to other outcomes from cosmetics: 12020\n"
     ]
    }
   ],
   "source": [
    "death_cosmetic = cosmetic_df[cosmetic_df['CASE_OUTCOME'].str.contains(\"Death\", na= False)]\n",
    "print(\"Complaints that lead to death from cosmetics: \" + str(death_cosmetic.shape[0]))\n",
    "disability_cosmetic = cosmetic_df[cosmetic_df['CASE_OUTCOME'].str.contains(\"Disability\", na= False)]\n",
    "print(\"Complaints that lead to disability from cosmetics: \" + str(disability_cosmetic.shape[0]))\n",
    "hosp_cosmetic = cosmetic_df[cosmetic_df['CASE_OUTCOME'].str.contains('Hospit|Emergency', na= False)]\n",
    "print(\"Complaints that lead to hospitalization or ER visit from cosmetics: \" + str(hosp_cosmetic.shape[0]))\n",
    "other_cosmetic = cosmetic_df[~cosmetic_df['CASE_OUTCOME'].str.contains('Death|Disability|Hospit|Emergency', na= False)]\n",
    "print(\"Complaints that lead to other outcomes from cosmetics: \" + str(other_cosmetic.shape[0]))"
   ]
  },
  {
   "cell_type": "code",
   "execution_count": 9,
   "id": "0f1341b7-3863-44ea-8d55-4162b68cf5e0",
   "metadata": {},
   "outputs": [
    {
     "name": "stdout",
     "output_type": "stream",
     "text": [
      "[[  202.  1390.  5227. 24720.]\n",
      " [   79.   478.   976. 12020.]\n",
      " [ 1186.  1879. 21182. 31384.]]\n",
      "[31539. 13553. 55631.]\n",
      "[ 1467.  3747. 27385. 68124.]\n"
     ]
    }
   ],
   "source": [
    "arr = np.array([[202.0, 1390, 5227, 24720],\n",
    "       [79, 478, 976, 12020],\n",
    "        [1186,1879, 21182, 31384]])\n",
    "print(arr)\n",
    "total_rows = np.sum(arr, axis = 1)\n",
    "total_cols = np.sum(arr, axis = 0)\n",
    "print(total_rows)\n",
    "print(total_cols)"
   ]
  },
  {
   "cell_type": "code",
   "execution_count": 12,
   "id": "f75d8858-74ff-4f15-92d5-4267af1ff500",
   "metadata": {},
   "outputs": [],
   "source": [
    "def chi_square_test(arr):\n",
    "    deviations = np.zeros(arr.shape)\n",
    "    total_rows = np.sum(arr, axis = 1)\n",
    "    total_cols = np.sum(arr, axis = 0)\n",
    "    total_entries = np.sum(arr.flatten())\n",
    "    test_stat = 0\n",
    "    for row_idx in range(arr.shape[0]):\n",
    "        for col_idx in range(arr.shape[1]):\n",
    "            entry = arr[row_idx, col_idx]\n",
    "            expected = total_rows[row_idx] * (total_cols[col_idx] / total_entries)\n",
    "            test_stat += ((entry - expected) ** 2)/ expected\n",
    "            deviations[row_idx, col_idx] = ((entry - expected) ** 2)/ expected\n",
    "    deg = (arr.shape[0]-1) * (arr.shape[1]-1)\n",
    "    return (test_stat, deg, deviations)"
   ]
  },
  {
   "cell_type": "code",
   "execution_count": 15,
   "id": "ea93fbbd-69a1-44f6-8606-519f1c234724",
   "metadata": {},
   "outputs": [
    {
     "name": "stdout",
     "output_type": "stream",
     "text": [
      "(8634.374264253021, 6)\n"
     ]
    }
   ],
   "source": [
    "(test_stat, deg, deviations) = chi_square_test(arr)\n",
    "print((test_stat, deg))"
   ]
  },
  {
   "cell_type": "code",
   "execution_count": 14,
   "id": "13c209eb-c09b-4927-9c9b-b69f709774d2",
   "metadata": {},
   "outputs": [
    {
     "data": {
      "text/plain": [
       "<matplotlib.colorbar.Colorbar at 0x2456463ef90>"
      ]
     },
     "execution_count": 14,
     "metadata": {},
     "output_type": "execute_result"
    },
    {
     "data": {
      "image/png": "[encoded data removed]",
      "text/plain": [
       "<Figure size 640x480 with 2 Axes>"
      ]
     },
     "metadata": {},
     "output_type": "display_data"
    }
   ],
   "source": [
    "plt.figure()\n",
    "plt.imshow(deviations)    \n",
    "plt.colorbar()"
   ]
  },
  {
   "cell_type": "code",
   "execution_count": null,
   "id": "bcbc3d6a-2811-43dc-84a2-5a9c0b11f418",
   "metadata": {},
   "outputs": [],
   "source": [
    "lst_codes = list(set(food_df[\"PRODUCT_CODE\"]))\n",
    "print(lst_codes)"
   ]
  },
  {
   "cell_type": "code",
   "execution_count": null,
   "id": "95098a4c-a11e-476a-8af6-e1906643b48e",
   "metadata": {},
   "outputs": [],
   "source": []
  }
 ],
 "metadata": {
  "kernelspec": {
   "display_name": "Python 3 (ipykernel)",
   "language": "python",
   "name": "python3"
  },
  "language_info": {
   "codemirror_mode": {
    "name": "ipython",
    "version": 3
   },
   "file_extension": ".py",
   "mimetype": "text/x-python",
   "name": "python",
   "nbconvert_exporter": "python",
   "pygments_lexer": "ipython3",
   "version": "3.11.5"
  }
 },
 "nbformat": 4,
 "nbformat_minor": 5
}
